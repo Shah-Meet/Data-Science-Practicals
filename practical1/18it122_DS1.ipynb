{
 "cells": [
  {
   "cell_type": "code",
   "execution_count": 1,
   "id": "f146a2a3",
   "metadata": {},
   "outputs": [
    {
     "name": "stdout",
     "output_type": "stream",
     "text": [
      "Requirement already satisfied: selenium in c:\\users\\91787\\python37\\lib\\site-packages (3.141.0)\n",
      "Requirement already satisfied: urllib3 in c:\\users\\91787\\python37\\lib\\site-packages (from selenium) (1.25.10)\n"
     ]
    }
   ],
   "source": [
    "!pip install selenium"
   ]
  },
  {
   "cell_type": "code",
   "execution_count": 2,
   "id": "f9b3ab04",
   "metadata": {},
   "outputs": [
    {
     "name": "stdout",
     "output_type": "stream",
     "text": [
      "Requirement already satisfied: beautifulsoup4 in c:\\users\\91787\\python37\\lib\\site-packages (4.9.1)\n",
      "Requirement already satisfied: soupsieve>1.2 in c:\\users\\91787\\python37\\lib\\site-packages (from beautifulsoup4) (2.0.1)\n"
     ]
    }
   ],
   "source": [
    "!pip install beautifulsoup4"
   ]
  },
  {
   "cell_type": "code",
   "execution_count": 3,
   "id": "cea0885a",
   "metadata": {},
   "outputs": [],
   "source": [
    "from selenium import webdriver\n",
    "from bs4 import BeautifulSoup\n",
    "import pandas as pd"
   ]
  },
  {
   "cell_type": "code",
   "execution_count": 17,
   "id": "8fd893f4",
   "metadata": {},
   "outputs": [],
   "source": [
    "driver = webdriver.Chrome(\"D:\\chromedriver\")"
   ]
  },
  {
   "cell_type": "code",
   "execution_count": 19,
   "id": "f805f0de",
   "metadata": {},
   "outputs": [],
   "source": [
    "products=[] #List to store name of the product\n",
    "prices=[] #List to store price of the product\n",
    "ratings=[] #List to store rating of the product\n",
    "spacification = [] #List to store spacifications of the product\n",
    "\n",
    "driver.get(\"https://www.flipkart.com/laptops/pr?sid=6bo%2Cb5g&marketplace=FLIPKART&p%5B%5D=facets.price_range.from%3D40000&p%5B%5D=facets.price_range.to%3DMax\")"
   ]
  },
  {
   "cell_type": "code",
   "execution_count": 20,
   "id": "f1de4866",
   "metadata": {},
   "outputs": [],
   "source": [
    "content = driver.page_source\n",
    "soup = BeautifulSoup(content)\n",
    "\n",
    "for element in soup.findAll('div', attrs={'class':'_1AtVbE col-12-12'}):\n",
    "    name=element.find('div', attrs={'class':'_4rR01T'})\n",
    "    price=element.find('div', attrs={'class':'_30jeq3 _1_WHN1'})\n",
    "    rating=element.find('div', attrs={'class':'_3LWZlK'})\n",
    "    spacifications = element.find('div',attrs={'class':'fMghEO'})\n",
    "    try:\n",
    "        products.append(name.text)\n",
    "        prices.append(price.text)\n",
    "        ratings.append(rating.text)\n",
    "        spacification.append(spacifications.text)\n",
    "    except:\n",
    "        continue"
   ]
  },
  {
   "cell_type": "code",
   "execution_count": 24,
   "id": "3355f90c",
   "metadata": {},
   "outputs": [],
   "source": [
    "df = pd.DataFrame({'Product Name':products,'Price':prices,'Rating':ratings,'Spacifactions':spacification})"
   ]
  },
  {
   "cell_type": "code",
   "execution_count": 25,
   "id": "ceb9e05d",
   "metadata": {},
   "outputs": [
    {
     "data": {
      "text/html": [
       "<div>\n",
       "<style scoped>\n",
       "    .dataframe tbody tr th:only-of-type {\n",
       "        vertical-align: middle;\n",
       "    }\n",
       "\n",
       "    .dataframe tbody tr th {\n",
       "        vertical-align: top;\n",
       "    }\n",
       "\n",
       "    .dataframe thead th {\n",
       "        text-align: right;\n",
       "    }\n",
       "</style>\n",
       "<table border=\"1\" class=\"dataframe\">\n",
       "  <thead>\n",
       "    <tr style=\"text-align: right;\">\n",
       "      <th></th>\n",
       "      <th>Product Name</th>\n",
       "      <th>Price</th>\n",
       "      <th>Rating</th>\n",
       "      <th>Spacifactions</th>\n",
       "    </tr>\n",
       "  </thead>\n",
       "  <tbody>\n",
       "    <tr>\n",
       "      <th>0</th>\n",
       "      <td>HP 15s Ryzen 3 Dual Core 3250U - (8 GB/1 TB HD...</td>\n",
       "      <td>₹42,990</td>\n",
       "      <td>4.4</td>\n",
       "      <td>AMD Ryzen 3 Dual Core Processor8 GB DDR4 RAM64...</td>\n",
       "    </tr>\n",
       "    <tr>\n",
       "      <th>1</th>\n",
       "      <td>HP 15s Core i3 10th Gen - (8 GB/1 TB HDD/256 G...</td>\n",
       "      <td>₹44,490</td>\n",
       "      <td>4.3</td>\n",
       "      <td>Intel Core i3 Processor (10th Gen)8 GB DDR4 RA...</td>\n",
       "    </tr>\n",
       "    <tr>\n",
       "      <th>2</th>\n",
       "      <td>HP Core i3 11th Gen - (8 GB/256 GB SSD/Windows...</td>\n",
       "      <td>₹41,490</td>\n",
       "      <td>4.3</td>\n",
       "      <td>Intel Core i3 Processor (11th Gen)8 GB DDR4 RA...</td>\n",
       "    </tr>\n",
       "    <tr>\n",
       "      <th>3</th>\n",
       "      <td>ASUS VivoBook Ultra 14 Core i3 11th Gen - (8 G...</td>\n",
       "      <td>₹45,990</td>\n",
       "      <td>4.4</td>\n",
       "      <td>Intel Core i3 Processor (11th Gen)8 GB DDR4 RA...</td>\n",
       "    </tr>\n",
       "    <tr>\n",
       "      <th>4</th>\n",
       "      <td>acer Aspire 7 Core i5 10th Gen - (8 GB/512 GB ...</td>\n",
       "      <td>₹54,990</td>\n",
       "      <td>4.4</td>\n",
       "      <td>Intel Core i5 Processor (10th Gen)8 GB DDR4 RA...</td>\n",
       "    </tr>\n",
       "  </tbody>\n",
       "</table>\n",
       "</div>"
      ],
      "text/plain": [
       "                                        Product Name    Price Rating  \\\n",
       "0  HP 15s Ryzen 3 Dual Core 3250U - (8 GB/1 TB HD...  ₹42,990    4.4   \n",
       "1  HP 15s Core i3 10th Gen - (8 GB/1 TB HDD/256 G...  ₹44,490    4.3   \n",
       "2  HP Core i3 11th Gen - (8 GB/256 GB SSD/Windows...  ₹41,490    4.3   \n",
       "3  ASUS VivoBook Ultra 14 Core i3 11th Gen - (8 G...  ₹45,990    4.4   \n",
       "4  acer Aspire 7 Core i5 10th Gen - (8 GB/512 GB ...  ₹54,990    4.4   \n",
       "\n",
       "                                       Spacifactions  \n",
       "0  AMD Ryzen 3 Dual Core Processor8 GB DDR4 RAM64...  \n",
       "1  Intel Core i3 Processor (10th Gen)8 GB DDR4 RA...  \n",
       "2  Intel Core i3 Processor (11th Gen)8 GB DDR4 RA...  \n",
       "3  Intel Core i3 Processor (11th Gen)8 GB DDR4 RA...  \n",
       "4  Intel Core i5 Processor (10th Gen)8 GB DDR4 RA...  "
      ]
     },
     "execution_count": 25,
     "metadata": {},
     "output_type": "execute_result"
    }
   ],
   "source": [
    "df.head()"
   ]
  },
  {
   "cell_type": "code",
   "execution_count": 26,
   "id": "5a39ce2a",
   "metadata": {},
   "outputs": [],
   "source": [
    "df.to_csv('products.csv', index=False, encoding='utf-8')\n",
    "data = pd.read_csv('products.csv')"
   ]
  },
  {
   "cell_type": "code",
   "execution_count": null,
   "id": "25a288d8",
   "metadata": {},
   "outputs": [],
   "source": []
  }
 ],
 "metadata": {
  "kernelspec": {
   "display_name": "Python 3 (ipykernel)",
   "language": "python",
   "name": "python3"
  },
  "language_info": {
   "codemirror_mode": {
    "name": "ipython",
    "version": 3
   },
   "file_extension": ".py",
   "mimetype": "text/x-python",
   "name": "python",
   "nbconvert_exporter": "python",
   "pygments_lexer": "ipython3",
   "version": "3.8.3"
  }
 },
 "nbformat": 4,
 "nbformat_minor": 5
}
